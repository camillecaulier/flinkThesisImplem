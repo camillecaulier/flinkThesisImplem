{
 "cells": [
  {
   "cell_type": "markdown",
   "id": "00743d92",
   "metadata": {},
   "source": [
    "# Environment preparation\n",
    "Some Python libraries are requried to run this Notebook"
   ]
  },
  {
   "cell_type": "code",
   "execution_count": null,
   "id": "c4c0c016",
   "metadata": {},
   "outputs": [],
   "source": [
    "import os\n",
    "os.chdir(\"C:/Users/Camil/OneDrive/Documents/masters/memoire/flinkImplemProject\") #security +++\n",
    "print(os.getcwd())\n",
    "# !pip install fabric panda ipywidgets papermill\n",
    "!mvn compile package "
   ]
  },
  {
   "cell_type": "code",
   "execution_count": null,
   "id": "87126044",
   "metadata": {
    "is_executing": true
   },
   "outputs": [],
   "source": [
    "from fabric import Connection\n",
    "\n",
    "remote_output_file = \"output.dat\"\n",
    "local_output_file = \"output.dat\"\n",
    "machine_name = \"troll-2\"\n",
    "\n",
    "c = Connection('ccaulier@access.grid5000.fr')\n",
    "c.run(\"ssh grenoble\")\n",
    "c.run(\"ssh \"+ machine_name)\n",
    "c.run(\"cd public\")\n",
    "\n",
    "result = c.run('pwd', hide=True)\n",
    "print(\"Current directory:\", result.stdout.strip())\n",
    "directory = result.stdout.strip()\n"
   ]
  },
  {
   "cell_type": "code",
   "outputs": [],
   "source": [
    "import tqdm\n",
    "c.put(\"target/flinkImplemProject.jar\", directory+\"flinkImplemProject.jar\")\n",
    "c.put(\"setupScript.py\", directory+\"/setupScript.py\")\n",
    "\n",
    "output = c.run(\"python setupScript.py\")\n",
    "print(output)\n",
    "total_size = os.path.getsize(\"data50.zip\")\n",
    "with tqdm(total=total_size, unit='B', unit_scale=True, desc='Uploading') as pbar:\n",
    "    def callback(data):\n",
    "        # Update the tqdm progress bar\n",
    "        pbar.update(len(data))\n",
    "\n",
    "    # Use Fabric's Connection.put to transfer the file\n",
    "    c.put(\"data50.zip\", directory+\"flinkThesisImplem\", callback=callback)\n",
    "c.run(\"unzip data50.zip\")\n"
   ],
   "metadata": {
    "collapsed": false,
    "is_executing": true
   },
   "id": "802cbd355b97645"
  }
 ],
 "metadata": {
  "kernelspec": {
   "display_name": "Python 3 (ipykernel)",
   "language": "python",
   "name": "python3"
  },
  "language_info": {
   "codemirror_mode": {
    "name": "ipython",
    "version": 3
   },
   "file_extension": ".py",
   "mimetype": "text/x-python",
   "name": "python",
   "nbconvert_exporter": "python",
   "pygments_lexer": "ipython3",
   "version": "3.10.11"
  }
 },
 "nbformat": 4,
 "nbformat_minor": 5
}
