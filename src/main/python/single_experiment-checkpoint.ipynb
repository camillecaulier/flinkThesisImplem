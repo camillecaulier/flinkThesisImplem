{
 "cells": [
  {
   "cell_type": "markdown",
   "id": "fde41171",
   "metadata": {},
   "source": [
    "# Setup variables\n",
    "The below cell has a hidden tag `parameters` which indicates that the variables declared inside can be modified by Papermill before running the cell."
   ]
  },
  {
   "cell_type": "code",
   "execution_count": 1,
   "id": "2c655b85",
   "metadata": {
    "tags": [
     "parameters"
    ]
   },
   "outputs": [],
   "source": [
    "notebook_dir = \".\"\n",
    "remote_output_file = \"output.dat\"\n",
    "local_output_file = \"output.dat\"\n",
    "machine_name = \"troll-2\""
   ]
  },
  {
   "cell_type": "markdown",
   "id": "cce1cff8",
   "metadata": {},
   "source": [
    "# Run benchmark and retrieve results\n",
    "We can now run the benchmark on the remote server and retrieve the output file."
   ]
  },
  {
   "cell_type": "code",
   "execution_count": 2,
   "id": "24e4630e",
   "metadata": {},
   "outputs": [
    {
     "data": {
      "text/plain": [
       "<fabric.transfer.Result at 0x1d48ce08be0>"
      ]
     },
     "execution_count": 2,
     "metadata": {},
     "output_type": "execute_result"
    }
   ],
   "source": [
    "# fabric is used to execute shell commands remotely over SSH\n",
    "from fabric import Connection\n",
    "\n",
    "c = Connection('ccaulier@access.grid5000.fr')\n",
    "\n",
    "c.run(\"ssh grenoble\")\n",
    "c.run(\"ssh \"+ machine_name)\n",
    "\n",
    "c.run(\"cd public\")\n",
    "\n",
    "\n",
    "result = c.run('pwd', hide=True)\n",
    "\n",
    "directory = result.stdout.strip()\n",
    "\n",
    "c.run(\"python your_script.py &\")\n",
    "prometheus = c.run(\"echo $! > save_pid.txt\")\n",
    "\n",
    "main_parallelism = 10\n",
    "# Run the benchmark on the remote server and copy the output to remote file\n",
    "c.run(\"flink-1.18.1/bin/flink run Desktop/tmp/flinkImplemProject.jar {} > {}\".format(main_parallelism,remote_output_file))\n",
    "\n",
    "# Copy remote output file locally\n",
    "c.get(remote_output_file, \"%s/%s\" % (notebook_dir, local_output_file))"
   ]
  },
  {
   "cell_type": "code",
   "execution_count": null,
   "id": "344c9029",
   "metadata": {},
   "outputs": [],
   "source": []
  }
 ],
 "metadata": {
  "celltoolbar": "Tags",
  "kernelspec": {
   "display_name": "Python 3 (ipykernel)",
   "language": "python",
   "name": "python3"
  },
  "language_info": {
   "codemirror_mode": {
    "name": "ipython",
    "version": 3
   },
   "file_extension": ".py",
   "mimetype": "text/x-python",
   "name": "python",
   "nbconvert_exporter": "python",
   "pygments_lexer": "ipython3",
   "version": "3.10.11"
  }
 },
 "nbformat": 4,
 "nbformat_minor": 5
}
