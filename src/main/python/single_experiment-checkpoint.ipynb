{
 "cells": [
  {
   "cell_type": "markdown",
   "id": "fde41171",
   "metadata": {},
   "source": [
    "# Setup variables\n",
    "The below cell has a hidden tag `parameters` which indicates that the variables declared inside can be modified by Papermill before running the cell."
   ]
  },
  {
   "cell_type": "code",
   "execution_count": 2,
   "id": "2c655b85",
   "metadata": {
    "tags": [
     "parameters"
    ],
    "ExecuteTime": {
     "end_time": "2024-05-06T12:18:11.935315Z",
     "start_time": "2024-05-06T12:18:11.918777Z"
    }
   },
   "outputs": [],
   "source": [
    "notebook_dir = \".\"\n",
    "remote_output_file = \"output.dat\"\n",
    "remote_throughput_file = \"throughput.dat\"\n",
    "local_throughput_file = \"throughput.dat\"\n",
    "local_output_file = \"output.dat\"\n",
    "machine_name = \"troll-4\"\n",
    "dataName = \"data50\""
   ]
  },
  {
   "cell_type": "markdown",
   "id": "cce1cff8",
   "metadata": {},
   "source": [
    "# Run benchmark and retrieve results\n",
    "We can now run the benchmark on the remote server and retrieve the output file."
   ]
  },
  {
   "cell_type": "code",
   "execution_count": 3,
   "id": "24e4630e",
   "metadata": {
    "ExecuteTime": {
     "end_time": "2024-05-06T12:21:29.888772Z",
     "start_time": "2024-05-06T12:18:13.125200Z"
    }
   },
   "outputs": [
    {
     "name": "stderr",
     "output_type": "stream",
     "text": [
      "Traceback (most recent call last):\n",
      "  File \"/usr/lib/python3/dist-packages/urllib3/connection.py\", line 169, in _new_conn\n",
      "    conn = connection.create_connection(\n",
      "  File \"/usr/lib/python3/dist-packages/urllib3/util/connection.py\", line 96, in create_connection\n",
      "    raise err\n",
      "  File \"/usr/lib/python3/dist-packages/urllib3/util/connection.py\", line 86, in create_connection\n",
      "    sock.connect(sa)\n",
      "ConnectionRefusedError: [Errno 111] Connection refused\n",
      "\n",
      "During handling of the above exception, another exception occurred:\n",
      "\n",
      "Traceback (most recent call last):\n",
      "  File \"/usr/lib/python3/dist-packages/urllib3/connectionpool.py\", line 699, in urlopen\n",
      "    httplib_response = self._make_request(\n",
      "  File \"/usr/lib/python3/dist-packages/urllib3/connectionpool.py\", line 394, in _make_request\n",
      "    conn.request(method, url, **httplib_request_kw)\n",
      "  File \"/usr/lib/python3/dist-packages/urllib3/connection.py\", line 234, in request\n",
      "    super(HTTPConnection, self).request(method, url, body=body, headers=headers)\n",
      "  File \"/usr/lib/python3.9/http/client.py\", line 1255, in request\n",
      "    self._send_request(method, url, body, headers, encode_chunked)\n",
      "  File \"/usr/lib/python3.9/http/client.py\", line 1301, in _send_request\n",
      "    self.endheaders(body, encode_chunked=encode_chunked)\n",
      "  File \"/usr/lib/python3.9/http/client.py\", line 1250, in endheaders\n",
      "    self._send_output(message_body, encode_chunked=encode_chunked)\n",
      "  File \"/usr/lib/python3.9/http/client.py\", line 1010, in _send_output\n",
      "    self.send(msg)\n",
      "  File \"/usr/lib/python3.9/http/client.py\", line 950, in send\n",
      "    self.connect()\n",
      "  File \"/usr/lib/python3/dist-packages/urllib3/connection.py\", line 200, in connect\n",
      "    conn = self._new_conn()\n",
      "  File \"/usr/lib/python3/dist-packages/urllib3/connection.py\", line 181, in _new_conn\n",
      "    raise NewConnectionError(\n",
      "urllib3.exceptions.NewConnectionError: <urllib3.connection.HTTPConnection object at 0x7f9cc73f8be0>: Failed to establish a new connection: [Errno 111] Connection refused\n",
      "\n",
      "During handling of the above exception, another exception occurred:\n",
      "\n",
      "Traceback (most recent call last):\n",
      "  File \"/usr/lib/python3/dist-packages/requests/adapters.py\", line 439, in send\n",
      "    resp = conn.urlopen(\n",
      "  File \"/usr/lib/python3/dist-packages/urllib3/connectionpool.py\", line 755, in urlopen\n",
      "    retries = retries.increment(\n",
      "  File \"/usr/lib/python3/dist-packages/urllib3/util/retry.py\", line 574, in increment\n",
      "    raise MaxRetryError(_pool, url, error or ResponseError(cause))\n",
      "urllib3.exceptions.MaxRetryError: HTTPConnectionPool(host='127.0.0.1', port=8081): Max retries exceeded with url: /jobs/ (Caused by NewConnectionError('<urllib3.connection.HTTPConnection object at 0x7f9cc73f8be0>: Failed to establish a new connection: [Errno 111] Connection refused'))\n",
      "\n",
      "During handling of the above exception, another exception occurred:\n",
      "\n",
      "Traceback (most recent call last):\n",
      "  File \"/home/ccaulier/fakePrometheus.py\", line 31, in <module>\n",
      "    none_count = 0\n",
      "  File \"/home/ccaulier/fakePrometheus.py\", line 11, in get_running_job\n",
      "    def get_running_job():\n",
      "  File \"/usr/lib/python3/dist-packages/requests/api.py\", line 76, in get\n",
      "    return request('get', url, params=params, **kwargs)\n",
      "  File \"/usr/lib/python3/dist-packages/requests/api.py\", line 61, in request\n",
      "    return session.request(method=method, url=url, **kwargs)\n",
      "  File \"/usr/lib/python3/dist-packages/requests/sessions.py\", line 542, in request\n",
      "    resp = self.send(prep, **send_kwargs)\n",
      "  File \"/usr/lib/python3/dist-packages/requests/sessions.py\", line 655, in send\n",
      "    r = adapter.send(request, **kwargs)\n",
      "  File \"/usr/lib/python3/dist-packages/requests/adapters.py\", line 516, in send\n",
      "    raise ConnectionError(e, request=request)\n",
      "requests.exceptions.ConnectionError: HTTPConnectionPool(host='127.0.0.1', port=8081): Max retries exceeded with url: /jobs/ (Caused by NewConnectionError('<urllib3.connection.HTTPConnection object at 0x7f9cc73f8be0>: Failed to establish a new connection: [Errno 111] Connection refused'))\n"
     ]
    },
    {
     "ename": "KeyboardInterrupt",
     "evalue": "",
     "output_type": "error",
     "traceback": [
      "\u001B[1;31m---------------------------------------------------------------------------\u001B[0m",
      "\u001B[1;31mKeyboardInterrupt\u001B[0m                         Traceback (most recent call last)",
      "Cell \u001B[1;32mIn[3], line 15\u001B[0m\n\u001B[0;32m     11\u001B[0m result \u001B[38;5;241m=\u001B[39m c\u001B[38;5;241m.\u001B[39mrun(\u001B[38;5;124m'\u001B[39m\u001B[38;5;124mpwd\u001B[39m\u001B[38;5;124m'\u001B[39m, hide\u001B[38;5;241m=\u001B[39m\u001B[38;5;28;01mTrue\u001B[39;00m)\n\u001B[0;32m     13\u001B[0m directory \u001B[38;5;241m=\u001B[39m result\u001B[38;5;241m.\u001B[39mstdout\u001B[38;5;241m.\u001B[39mstrip()\n\u001B[1;32m---> 15\u001B[0m \u001B[43mc\u001B[49m\u001B[38;5;241;43m.\u001B[39;49m\u001B[43mrun\u001B[49m\u001B[43m(\u001B[49m\u001B[38;5;124;43m\"\u001B[39;49m\u001B[38;5;124;43mpython fakePrometheus.py > throughput.dat &\u001B[39;49m\u001B[38;5;124;43m\"\u001B[39;49m\u001B[43m)\u001B[49m\n\u001B[0;32m     19\u001B[0m main_parallelism \u001B[38;5;241m=\u001B[39m \u001B[38;5;241m10\u001B[39m\n\u001B[0;32m     20\u001B[0m \u001B[38;5;66;03m# Run the benchmark on the remote server and copy the output to remote file\u001B[39;00m\n",
      "File \u001B[1;32m~\\AppData\\Local\\Programs\\Python\\Python310\\lib\\site-packages\\decorator.py:232\u001B[0m, in \u001B[0;36mdecorate.<locals>.fun\u001B[1;34m(*args, **kw)\u001B[0m\n\u001B[0;32m    230\u001B[0m \u001B[38;5;28;01mif\u001B[39;00m \u001B[38;5;129;01mnot\u001B[39;00m kwsyntax:\n\u001B[0;32m    231\u001B[0m     args, kw \u001B[38;5;241m=\u001B[39m fix(args, kw, sig)\n\u001B[1;32m--> 232\u001B[0m \u001B[38;5;28;01mreturn\u001B[39;00m caller(func, \u001B[38;5;241m*\u001B[39m(extras \u001B[38;5;241m+\u001B[39m args), \u001B[38;5;241m*\u001B[39m\u001B[38;5;241m*\u001B[39mkw)\n",
      "File \u001B[1;32m~\\AppData\\Local\\Programs\\Python\\Python310\\lib\\site-packages\\fabric\\connection.py:23\u001B[0m, in \u001B[0;36mopens\u001B[1;34m(method, self, *args, **kwargs)\u001B[0m\n\u001B[0;32m     20\u001B[0m \u001B[38;5;129m@decorator\u001B[39m\n\u001B[0;32m     21\u001B[0m \u001B[38;5;28;01mdef\u001B[39;00m \u001B[38;5;21mopens\u001B[39m(method, \u001B[38;5;28mself\u001B[39m, \u001B[38;5;241m*\u001B[39margs, \u001B[38;5;241m*\u001B[39m\u001B[38;5;241m*\u001B[39mkwargs):\n\u001B[0;32m     22\u001B[0m     \u001B[38;5;28mself\u001B[39m\u001B[38;5;241m.\u001B[39mopen()\n\u001B[1;32m---> 23\u001B[0m     \u001B[38;5;28;01mreturn\u001B[39;00m method(\u001B[38;5;28mself\u001B[39m, \u001B[38;5;241m*\u001B[39margs, \u001B[38;5;241m*\u001B[39m\u001B[38;5;241m*\u001B[39mkwargs)\n",
      "File \u001B[1;32m~\\AppData\\Local\\Programs\\Python\\Python310\\lib\\site-packages\\fabric\\connection.py:763\u001B[0m, in \u001B[0;36mConnection.run\u001B[1;34m(self, command, **kwargs)\u001B[0m\n\u001B[0;32m    748\u001B[0m \u001B[38;5;129m@opens\u001B[39m\n\u001B[0;32m    749\u001B[0m \u001B[38;5;28;01mdef\u001B[39;00m \u001B[38;5;21mrun\u001B[39m(\u001B[38;5;28mself\u001B[39m, command, \u001B[38;5;241m*\u001B[39m\u001B[38;5;241m*\u001B[39mkwargs):\n\u001B[0;32m    750\u001B[0m \u001B[38;5;250m    \u001B[39m\u001B[38;5;124;03m\"\"\"\u001B[39;00m\n\u001B[0;32m    751\u001B[0m \u001B[38;5;124;03m    Execute a shell command on the remote end of this connection.\u001B[39;00m\n\u001B[0;32m    752\u001B[0m \n\u001B[1;32m   (...)\u001B[0m\n\u001B[0;32m    761\u001B[0m \u001B[38;5;124;03m    .. versionadded:: 2.0\u001B[39;00m\n\u001B[0;32m    762\u001B[0m \u001B[38;5;124;03m    \"\"\"\u001B[39;00m\n\u001B[1;32m--> 763\u001B[0m     \u001B[38;5;28;01mreturn\u001B[39;00m \u001B[38;5;28mself\u001B[39m\u001B[38;5;241m.\u001B[39m_run(\u001B[38;5;28mself\u001B[39m\u001B[38;5;241m.\u001B[39m_remote_runner(), command, \u001B[38;5;241m*\u001B[39m\u001B[38;5;241m*\u001B[39mkwargs)\n",
      "File \u001B[1;32m~\\AppData\\Local\\Programs\\Python\\Python310\\lib\\site-packages\\invoke\\context.py:113\u001B[0m, in \u001B[0;36mContext._run\u001B[1;34m(self, runner, command, **kwargs)\u001B[0m\n\u001B[0;32m    109\u001B[0m \u001B[38;5;28;01mdef\u001B[39;00m \u001B[38;5;21m_run\u001B[39m(\n\u001B[0;32m    110\u001B[0m     \u001B[38;5;28mself\u001B[39m, runner: \u001B[38;5;124m\"\u001B[39m\u001B[38;5;124mRunner\u001B[39m\u001B[38;5;124m\"\u001B[39m, command: \u001B[38;5;28mstr\u001B[39m, \u001B[38;5;241m*\u001B[39m\u001B[38;5;241m*\u001B[39mkwargs: Any\n\u001B[0;32m    111\u001B[0m ) \u001B[38;5;241m-\u001B[39m\u001B[38;5;241m>\u001B[39m Optional[Result]:\n\u001B[0;32m    112\u001B[0m     command \u001B[38;5;241m=\u001B[39m \u001B[38;5;28mself\u001B[39m\u001B[38;5;241m.\u001B[39m_prefix_commands(command)\n\u001B[1;32m--> 113\u001B[0m     \u001B[38;5;28;01mreturn\u001B[39;00m runner\u001B[38;5;241m.\u001B[39mrun(command, \u001B[38;5;241m*\u001B[39m\u001B[38;5;241m*\u001B[39mkwargs)\n",
      "File \u001B[1;32m~\\AppData\\Local\\Programs\\Python\\Python310\\lib\\site-packages\\fabric\\runners.py:83\u001B[0m, in \u001B[0;36mRemote.run\u001B[1;34m(self, command, **kwargs)\u001B[0m\n\u001B[0;32m     81\u001B[0m \u001B[38;5;28;01mdef\u001B[39;00m \u001B[38;5;21mrun\u001B[39m(\u001B[38;5;28mself\u001B[39m, command, \u001B[38;5;241m*\u001B[39m\u001B[38;5;241m*\u001B[39mkwargs):\n\u001B[0;32m     82\u001B[0m     kwargs\u001B[38;5;241m.\u001B[39msetdefault(\u001B[38;5;124m\"\u001B[39m\u001B[38;5;124mreplace_env\u001B[39m\u001B[38;5;124m\"\u001B[39m, \u001B[38;5;28;01mTrue\u001B[39;00m)\n\u001B[1;32m---> 83\u001B[0m     \u001B[38;5;28;01mreturn\u001B[39;00m \u001B[38;5;28msuper\u001B[39m()\u001B[38;5;241m.\u001B[39mrun(command, \u001B[38;5;241m*\u001B[39m\u001B[38;5;241m*\u001B[39mkwargs)\n",
      "File \u001B[1;32m~\\AppData\\Local\\Programs\\Python\\Python310\\lib\\site-packages\\invoke\\runners.py:395\u001B[0m, in \u001B[0;36mRunner.run\u001B[1;34m(self, command, **kwargs)\u001B[0m\n\u001B[0;32m    126\u001B[0m \u001B[38;5;250m\u001B[39m\u001B[38;5;124;03m\"\"\"\u001B[39;00m\n\u001B[0;32m    127\u001B[0m \u001B[38;5;124;03mExecute ``command``, returning an instance of `Result` once complete.\u001B[39;00m\n\u001B[0;32m    128\u001B[0m \n\u001B[1;32m   (...)\u001B[0m\n\u001B[0;32m    392\u001B[0m \u001B[38;5;124;03m.. versionadded:: 1.0\u001B[39;00m\n\u001B[0;32m    393\u001B[0m \u001B[38;5;124;03m\"\"\"\u001B[39;00m\n\u001B[0;32m    394\u001B[0m \u001B[38;5;28;01mtry\u001B[39;00m:\n\u001B[1;32m--> 395\u001B[0m     \u001B[38;5;28;01mreturn\u001B[39;00m \u001B[38;5;28mself\u001B[39m\u001B[38;5;241m.\u001B[39m_run_body(command, \u001B[38;5;241m*\u001B[39m\u001B[38;5;241m*\u001B[39mkwargs)\n\u001B[0;32m    396\u001B[0m \u001B[38;5;28;01mfinally\u001B[39;00m:\n\u001B[0;32m    397\u001B[0m     \u001B[38;5;28;01mif\u001B[39;00m \u001B[38;5;129;01mnot\u001B[39;00m (\u001B[38;5;28mself\u001B[39m\u001B[38;5;241m.\u001B[39m_asynchronous \u001B[38;5;129;01mor\u001B[39;00m \u001B[38;5;28mself\u001B[39m\u001B[38;5;241m.\u001B[39m_disowned):\n",
      "File \u001B[1;32m~\\AppData\\Local\\Programs\\Python\\Python310\\lib\\site-packages\\invoke\\runners.py:451\u001B[0m, in \u001B[0;36mRunner._run_body\u001B[1;34m(self, command, **kwargs)\u001B[0m\n\u001B[0;32m    449\u001B[0m     thread\u001B[38;5;241m.\u001B[39mstart()\n\u001B[0;32m    450\u001B[0m \u001B[38;5;66;03m# Wrap up or promise that we will, depending\u001B[39;00m\n\u001B[1;32m--> 451\u001B[0m \u001B[38;5;28;01mreturn\u001B[39;00m \u001B[38;5;28mself\u001B[39m\u001B[38;5;241m.\u001B[39mmake_promise() \u001B[38;5;28;01mif\u001B[39;00m \u001B[38;5;28mself\u001B[39m\u001B[38;5;241m.\u001B[39m_asynchronous \u001B[38;5;28;01melse\u001B[39;00m \u001B[38;5;28;43mself\u001B[39;49m\u001B[38;5;241;43m.\u001B[39;49m\u001B[43m_finish\u001B[49m\u001B[43m(\u001B[49m\u001B[43m)\u001B[49m\n",
      "File \u001B[1;32m~\\AppData\\Local\\Programs\\Python\\Python310\\lib\\site-packages\\invoke\\runners.py:489\u001B[0m, in \u001B[0;36mRunner._finish\u001B[1;34m(self)\u001B[0m\n\u001B[0;32m    487\u001B[0m thread_exceptions \u001B[38;5;241m=\u001B[39m []\n\u001B[0;32m    488\u001B[0m \u001B[38;5;28;01mfor\u001B[39;00m target, thread \u001B[38;5;129;01min\u001B[39;00m \u001B[38;5;28mself\u001B[39m\u001B[38;5;241m.\u001B[39mthreads\u001B[38;5;241m.\u001B[39mitems():\n\u001B[1;32m--> 489\u001B[0m     \u001B[43mthread\u001B[49m\u001B[38;5;241;43m.\u001B[39;49m\u001B[43mjoin\u001B[49m\u001B[43m(\u001B[49m\u001B[38;5;28;43mself\u001B[39;49m\u001B[38;5;241;43m.\u001B[39;49m\u001B[43m_thread_join_timeout\u001B[49m\u001B[43m(\u001B[49m\u001B[43mtarget\u001B[49m\u001B[43m)\u001B[49m\u001B[43m)\u001B[49m\n\u001B[0;32m    490\u001B[0m     exception \u001B[38;5;241m=\u001B[39m thread\u001B[38;5;241m.\u001B[39mexception()\n\u001B[0;32m    491\u001B[0m     \u001B[38;5;28;01mif\u001B[39;00m exception \u001B[38;5;129;01mis\u001B[39;00m \u001B[38;5;129;01mnot\u001B[39;00m \u001B[38;5;28;01mNone\u001B[39;00m:\n",
      "File \u001B[1;32m~\\AppData\\Local\\Programs\\Python\\Python310\\lib\\threading.py:1096\u001B[0m, in \u001B[0;36mThread.join\u001B[1;34m(self, timeout)\u001B[0m\n\u001B[0;32m   1093\u001B[0m     \u001B[38;5;28;01mraise\u001B[39;00m \u001B[38;5;167;01mRuntimeError\u001B[39;00m(\u001B[38;5;124m\"\u001B[39m\u001B[38;5;124mcannot join current thread\u001B[39m\u001B[38;5;124m\"\u001B[39m)\n\u001B[0;32m   1095\u001B[0m \u001B[38;5;28;01mif\u001B[39;00m timeout \u001B[38;5;129;01mis\u001B[39;00m \u001B[38;5;28;01mNone\u001B[39;00m:\n\u001B[1;32m-> 1096\u001B[0m     \u001B[38;5;28;43mself\u001B[39;49m\u001B[38;5;241;43m.\u001B[39;49m\u001B[43m_wait_for_tstate_lock\u001B[49m\u001B[43m(\u001B[49m\u001B[43m)\u001B[49m\n\u001B[0;32m   1097\u001B[0m \u001B[38;5;28;01melse\u001B[39;00m:\n\u001B[0;32m   1098\u001B[0m     \u001B[38;5;66;03m# the behavior of a negative timeout isn't documented, but\u001B[39;00m\n\u001B[0;32m   1099\u001B[0m     \u001B[38;5;66;03m# historically .join(timeout=x) for x<0 has acted as if timeout=0\u001B[39;00m\n\u001B[0;32m   1100\u001B[0m     \u001B[38;5;28mself\u001B[39m\u001B[38;5;241m.\u001B[39m_wait_for_tstate_lock(timeout\u001B[38;5;241m=\u001B[39m\u001B[38;5;28mmax\u001B[39m(timeout, \u001B[38;5;241m0\u001B[39m))\n",
      "File \u001B[1;32m~\\AppData\\Local\\Programs\\Python\\Python310\\lib\\threading.py:1116\u001B[0m, in \u001B[0;36mThread._wait_for_tstate_lock\u001B[1;34m(self, block, timeout)\u001B[0m\n\u001B[0;32m   1113\u001B[0m     \u001B[38;5;28;01mreturn\u001B[39;00m\n\u001B[0;32m   1115\u001B[0m \u001B[38;5;28;01mtry\u001B[39;00m:\n\u001B[1;32m-> 1116\u001B[0m     \u001B[38;5;28;01mif\u001B[39;00m \u001B[43mlock\u001B[49m\u001B[38;5;241;43m.\u001B[39;49m\u001B[43macquire\u001B[49m\u001B[43m(\u001B[49m\u001B[43mblock\u001B[49m\u001B[43m,\u001B[49m\u001B[43m \u001B[49m\u001B[43mtimeout\u001B[49m\u001B[43m)\u001B[49m:\n\u001B[0;32m   1117\u001B[0m         lock\u001B[38;5;241m.\u001B[39mrelease()\n\u001B[0;32m   1118\u001B[0m         \u001B[38;5;28mself\u001B[39m\u001B[38;5;241m.\u001B[39m_stop()\n",
      "\u001B[1;31mKeyboardInterrupt\u001B[0m: "
     ]
    }
   ],
   "source": [
    "# fabric is used to execute shell commands remotely over SSH\n",
    "from fabric import Connection\n",
    "\n",
    "c1 = Connection(host='ccaulier@access.grid5000.fr')\n",
    "# print(c1.run(\"hostname\"))\n",
    "c2 = Connection(host='ccaulier@grenoble', gateway=c1)\n",
    "# print(c2.run(\"hostname\"))\n",
    "c = Connection(host='ccaulier@troll-4', gateway=c2)\n",
    "\n",
    "\n",
    "c.run(\"./flink-1.18.1/bin/start-cluster.sh\")\n",
    "\n",
    "result = c.run('pwd', hide=True)\n",
    "\n",
    "directory = result.stdout.strip()\n",
    "\n",
    "c.run(\"python fakePrometheus.py > throughput.dat &\")\n",
    "\n",
    "\n",
    "\n",
    "main_parallelism = 10\n",
    "# Run the benchmark on the remote server and copy the output to remote file\n",
    "# c.run(\"flink-1.18.1/bin/flink run flinkImplemProject.jar {} > {}\".format(main_parallelism,remote_output_file))\n",
    "\n",
    "c.run(\"flink-1.18.1/bin/flink run flinkImplemProject.jar {} | tee {}\".format(main_parallelism, dataName, remote_output_file))\n",
    "\n",
    "\n",
    "# Copy remote output file locally\n",
    "c.get(remote_output_file, \"%s/%s\" % (notebook_dir, local_output_file))\n",
    "c.get(remote_throughput_file, \"%s/%s\" % (notebook_dir, local_throughput_file))\n",
    "\n",
    "c.run(\"flink-1.18.1/bin/stop-cluster.sh\")"
   ]
  },
  {
   "cell_type": "code",
   "execution_count": null,
   "id": "344c9029",
   "metadata": {},
   "outputs": [],
   "source": []
  }
 ],
 "metadata": {
  "celltoolbar": "Tags",
  "kernelspec": {
   "display_name": "Python 3 (ipykernel)",
   "language": "python",
   "name": "python3"
  },
  "language_info": {
   "codemirror_mode": {
    "name": "ipython",
    "version": 3
   },
   "file_extension": ".py",
   "mimetype": "text/x-python",
   "name": "python",
   "nbconvert_exporter": "python",
   "pygments_lexer": "ipython3",
   "version": "3.10.11"
  }
 },
 "nbformat": 4,
 "nbformat_minor": 5
}
