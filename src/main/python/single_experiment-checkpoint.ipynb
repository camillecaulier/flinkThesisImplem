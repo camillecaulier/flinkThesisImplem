{
 "cells": [
  {
   "cell_type": "markdown",
   "id": "fde41171",
   "metadata": {},
   "source": [
    "# Setup variables\n",
    "The below cell has a hidden tag `parameters` which indicates that the variables declared inside can be modified by Papermill before running the cell."
   ]
  },
  {
   "cell_type": "code",
   "execution_count": 3,
   "id": "2c655b85",
   "metadata": {
    "tags": [
     "parameters"
    ],
    "ExecuteTime": {
     "start_time": "2024-06-03T16:07:29.801218Z",
     "end_time": "2024-06-03T16:07:29.809085Z"
    }
   },
   "outputs": [],
   "source": [
    "notebook_dir = \".\"\n",
    "remote_output_file = \"output.dat\"\n",
    "remote_throughput_file = \"throughput.dat\"\n",
    "local_throughput_file = \"throughput.dat\"\n",
    "local_output_file = \"output.dat\"\n",
    "machine_name = \"troll-4\"\n",
    "dataName = \"param_100000_150.csv\"\n"
   ]
  },
  {
   "cell_type": "markdown",
   "id": "cce1cff8",
   "metadata": {},
   "source": [
    "# Run benchmark and retrieve results\n",
    "We can now run the benchmark on the remote server and retrieve the output file."
   ]
  },
  {
   "cell_type": "code",
   "execution_count": null,
   "outputs": [
    {
     "name": "stdout",
     "output_type": "stream",
     "text": [
      "Starting cluster.\n",
      "Starting standalonesession daemon on host chifflot-1.lille.grid5000.fr.\n",
      "Starting taskexecutor daemon on host chifflot-1.lille.grid5000.fr.\n",
      "[INFO] 1 instance(s) of taskexecutor are already running on chifflot-1.lille.grid5000.fr.\n",
      "Starting taskexecutor daemon on host chifflot-1.lille.grid5000.fr.\n",
      "[INFO] 2 instance(s) of taskexecutor are already running on chifflot-1.lille.grid5000.fr.\n",
      "Starting taskexecutor daemon on host chifflot-1.lille.grid5000.fr.\n"
     ]
    }
   ],
   "source": [
    "# fabric is used to execute shell commands remotely over SSH\n",
    "from fabric import Connection\n",
    "\n",
    "c1 = Connection(host='ccaulier@access.grid5000.fr')\n",
    "# print(c1.run(\"hostname\"))\n",
    "c2 = Connection(host='ccaulier@lille', gateway=c1)\n",
    "# print(c2.run(\"hostname\"))\n",
    "c = Connection(host='ccaulier@chifflot-1', gateway=c2)\n",
    "\n",
    "\n",
    "c.run(\"./flink-1.18.1/bin/start-cluster.sh\")\n",
    "\n",
    "result = c.run('pwd', hide=True)\n",
    "\n",
    "directory = result.stdout.strip()\n",
    "\n",
    "c.run(\"python fakePrometheusBusynessPerVertex.py > throughput.dat &\")\n",
    "\n",
    "\n",
    "\n",
    "main_parallelism = 10\n",
    "# Run the benchmark on the remote server and copy the output to remote file\n",
    "# c.run(\"flink-1.18.1/bin/flink run flinkImplemProject.jar {} {} javaSource \".format(main_parallelism,dataName,remote_output_file))\n",
    "\n",
    "c.run(\"flink-1.18.1/bin/flink run flinkImplemProject.jar {} {} javaSource | tee {}\".format(main_parallelism, dataName, remote_output_file))\n",
    "\n",
    "\n",
    "# Copy remote output file locally\n",
    "c.get(remote_output_file, \"%s/%s\" % (notebook_dir, local_output_file))\n",
    "c.get(remote_throughput_file, \"%s/%s\" % (notebook_dir, local_throughput_file))\n",
    "\n",
    "c.run(\"flink-1.18.1/bin/stop-cluster.sh\")"
   ],
   "metadata": {
    "collapsed": false
   }
  },
  {
   "cell_type": "code",
   "execution_count": null,
   "id": "344c9029",
   "metadata": {},
   "outputs": [],
   "source": []
  }
 ],
 "metadata": {
  "celltoolbar": "Tags",
  "kernelspec": {
   "display_name": "Python 3 (ipykernel)",
   "language": "python",
   "name": "python3"
  },
  "language_info": {
   "codemirror_mode": {
    "name": "ipython",
    "version": 3
   },
   "file_extension": ".py",
   "mimetype": "text/x-python",
   "name": "python",
   "nbconvert_exporter": "python",
   "pygments_lexer": "ipython3",
   "version": "3.10.11"
  }
 },
 "nbformat": 4,
 "nbformat_minor": 5
}
